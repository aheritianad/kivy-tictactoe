{
 "cells": [
  {
   "cell_type": "markdown",
   "metadata": {},
   "source": [
    "# Utility funtions"
   ]
  },
  {
   "cell_type": "code",
   "execution_count": 1,
   "metadata": {},
   "outputs": [
    {
     "name": "stdout",
     "output_type": "stream",
     "text": [
      "Overwriting utils.py\n"
     ]
    }
   ],
   "source": [
    "%%writefile utils.py\n",
    "import numpy as np\n",
    "import json\n",
    "from typing import *\n",
    "\n",
    "\n",
    "def softmax(logits: np.ndarray):\n",
    "    \"\"\"Compute the softmax of a logits.\n",
    "\n",
    "    Args:\n",
    "        logits (np.ndarray): a 1-d array logits\n",
    "\n",
    "    Returns:\n",
    "        np.ndarray: probability distribution of the logits using softmax\n",
    "    \"\"\"\n",
    "    exp_logits = np.exp(logits - logits.max())\n",
    "    return exp_logits / np.sum(exp_logits)\n",
    "\n",
    "\n",
    "def argmax_uniform(qvalue: np.ndarray):\n",
    "    \"\"\"Argmax function where the index will be chosen uniformely if there are more than one max\n",
    "\n",
    "    Args:\n",
    "        qvalue (np.ndarray): a 1-d array argument for the argmax function\n",
    "\n",
    "    Returns:\n",
    "        int: argmax chosen uniformely from all maximum\n",
    "    \"\"\"\n",
    "    idx_max = np.arange(qvalue.shape[0])[qvalue == qvalue.max()]\n",
    "    return np.random.choice(idx_max)\n",
    "\n",
    "\n",
    "\n",
    "def return_probabilities(state: str, qvalue_state: np.ndarray, kind: str):\n",
    "    \"\"\"Generate a probability distribution of actions at a given state, knowing the Q-value\n",
    "\n",
    "    Args:\n",
    "        state (str): current state\n",
    "        qvalue_state (np.ndarray): `1-D`of the Q-value at the given state\n",
    "        kind (str): one of the strings `'random'`, `'greedy'` or `'softmax'` which will be used to define the probability.\n",
    "\n",
    "    Raises:\n",
    "        NotImplementedError: raise Error if kind is not one of `'random'`, `'greedy'` and `'softmax'`\n",
    "\n",
    "    Returns:\n",
    "        list: the policy distribution at the given state\n",
    "    \"\"\"\n",
    "    index_state = np.array(list(map(int, list(state))))\n",
    "    probs = np.zeros_like(qvalue_state, dtype=np.float)\n",
    "    logits = qvalue_state[index_state == 0]\n",
    "    if kind == \"greedy\":\n",
    "        p = np.zeros_like(logits)\n",
    "        idx_max = np.where(logits - logits.max() == 0)[0]\n",
    "        p[idx_max] = 1 / len(\n",
    "            idx_max\n",
    "        )  # Give the same probability when there are more than one maximum\n",
    "    elif kind == \"softmax\":\n",
    "        p = softmax(logits)\n",
    "    elif kind == \"random\":\n",
    "        p = 1 / len(logits)\n",
    "    else:\n",
    "        raise NotImplementedError\n",
    "    probs[index_state == 0] = p\n",
    "    return list(probs)\n",
    "\n",
    "\n",
    "def generate_json_policy(policy: dict, json_policy_path: str):\n",
    "    \"\"\"Generate a json file of the policy dictionary\n",
    "\n",
    "    Args:\n",
    "        policy (dict): a policy of an agent\n",
    "        json_policy_path (str): a path where the json file will be stored\n",
    "    \"\"\"\n",
    "    with open(json_policy_path, \"w\") as json_file:\n",
    "        json.dump(policy, json_file, indent=2)\n",
    "\n",
    "\n",
    "def read_json_policy(json_policy_path: str):\n",
    "    \"\"\"Generate a policy in a dictionary from a json file\n",
    "\n",
    "    Args:\n",
    "        json_policy_path (str): path where the json file is stored\n",
    "\n",
    "    Returns:\n",
    "        dict[str: list]: a policy dictionary with states (`str`) as keys and action distributions (`list`) as values\n",
    "    \"\"\"\n",
    "    with open(json_policy_path, \"r\") as json_file:\n",
    "        policy = json.load(json_file)\n",
    "    return policy\n"
   ]
  },
  {
   "cell_type": "markdown",
   "metadata": {},
   "source": [
    "# Player module"
   ]
  },
  {
   "cell_type": "code",
   "execution_count": 2,
   "metadata": {},
   "outputs": [
    {
     "name": "stdout",
     "output_type": "stream",
     "text": [
      "Overwriting player_module.py\n"
     ]
    }
   ],
   "source": [
    "%%writefile player_module.py\n",
    "import numpy as np\n",
    "from typing import *\n",
    "from utils import return_probabilities, generate_json_policy, argmax_uniform\n",
    "\n",
    "\n",
    "class Player:\n",
    "    def act(self, state: str):\n",
    "        \"\"\"Player will generate action depending on the state\n",
    "\n",
    "        Args:\n",
    "            state (str): current state\n",
    "        \"\"\"\n",
    "        pass\n",
    "\n",
    "    def update(\n",
    "        self, state: str, action: int, next_state: str, reward: int, done: bool\n",
    "    ) -> None:\n",
    "        \"\"\"Update function for the qfunction at a given `state` with a given\n",
    "        `action` which takes it to a given state (`next_state`) and obtain a\n",
    "        reward `reward` and a flag `done` saying wether the new state is a\n",
    "        terminal sate or not.\n",
    "\n",
    "        Args:\n",
    "            state (str): current state\n",
    "            action (int): action to perfom\n",
    "            next_state (str): next state after performing the action at the state\n",
    "                                reward (int): reward obtained by performing the action at the state\n",
    "            done (bool): falg saying wether the next state is a terminal state or not\n",
    "        \"\"\"\n",
    "        pass\n",
    "\n",
    "\n",
    "class HumanPlayer(Player):\n",
    "    def __init__(self, player_number: int, name: str = None):\n",
    "        \"\"\"This is the class of human player\n",
    "\n",
    "        Args:\n",
    "            player_number (int): either 1 or 2, which says the player\n",
    "                                    if the first player or the second\n",
    "            name (str, optional): name of the player. Defaults to None.\n",
    "                                    If none is given, the player will\n",
    "                                    be `Player1` or `Player2` depending on their number\n",
    "        \"\"\"\n",
    "        super().__init__()\n",
    "        self.player_number = player_number\n",
    "        self.name = name if name else f\"Player{player_number}\"\n",
    "\n",
    "    def act(self, state: str, *args, **kwargs):\n",
    "        \"\"\"It will ask the human players to choose action that they will take\n",
    "        by giving the corresponding value shown in the board\n",
    "\n",
    "        Args:\n",
    "            state (str): current state\n",
    "\n",
    "        Returns:\n",
    "            int: the action that user will take\n",
    "        \"\"\"\n",
    "        print(\n",
    "            f\"{self.name}, it is your turn. You are {('X','+')[self.player_number-1]}.\"\n",
    "        )\n",
    "        available_actions = []\n",
    "        table = \"\"\n",
    "        for action, state_number in zip(range(9), state):\n",
    "            s_num = int(state_number)\n",
    "            if s_num == 0:\n",
    "                available_actions.append(action)\n",
    "            symbols = (str(action), \"X\", \"+\")\n",
    "            table += symbols[s_num] + \" \"\n",
    "            if action in (2, 5):\n",
    "                table += \"\\n\"\n",
    "        print(table)\n",
    "\n",
    "        while True:\n",
    "            action = int(input(f\"Choose your action {available_actions}:\\t\").strip())\n",
    "            if action in available_actions:\n",
    "                break\n",
    "        print(\">\", action)\n",
    "\n",
    "        return action\n",
    "\n",
    "\n",
    "class QAgent(Player):\n",
    "    def __init__(\n",
    "        self, num_actions: int, gamma: float, learning_rate: float, epsilon: float\n",
    "    ) -> None:\n",
    "        \"\"\"A free tabular Q-agent class for Tic Tac Toe player\n",
    "\n",
    "        Args:\n",
    "            num_actions (int): the total number of actions for the environment\n",
    "            gamma (float): discount factor (between 0 to 1, 1 excluded from theory).\n",
    "                            The higher gamma is, the more the agent look at a bigger horizon.\n",
    "            learning_rate (floar): learning rate for update Q-function (from 0 to 1).\n",
    "                                    The higher learning rate is, the higher exploitation.\n",
    "            epsilon (float): probability of acting non greedily (from 0 to 1). The higher epsilon is,\n",
    "                            the more the agent explore.\n",
    "        \"\"\"\n",
    "        self.set_learning_params(gamma, learning_rate, epsilon)\n",
    "        self.qfunction = {}\n",
    "        self._num_actions = num_actions\n",
    "\n",
    "    def set_learning_params(self, gamma: float, learning_rate: float, epsilon: float):\n",
    "        \"\"\"Setting learning parameters\n",
    "\n",
    "        Args:\n",
    "            gamma (float): discount factor (between 0 to 1, 1 excluded from theory).\n",
    "                            The higher gamma is, the more the agent look at a bigger horizon.\n",
    "            learning_rate (floar): learning rate for update Q-function (from 0 to 1).\n",
    "                                    The higher learning rate is, the higher exploitation.\n",
    "            epsilon (float): probability of acting non greedily (from 0 to 1). The higher epsilon is,\n",
    "                            the more the agent explore.\n",
    "        \"\"\"\n",
    "        self._gamma = gamma\n",
    "        self._alpha = learning_rate\n",
    "        self._epsilon = epsilon\n",
    "\n",
    "    def act(self, state: str, eval: bool = False):\n",
    "        \"\"\"Sample action at a given state\n",
    "\n",
    "        Args:\n",
    "            state (str): state where to chose a sample action according to\n",
    "                            the `qfunction` and the `eval` flag.\n",
    "            eval (bool, optional): a flag saying wether the sampling should be\n",
    "                                    done greedily (if `eval` is set to `True`) or epsilon-greedy. Defaults to False.\n",
    "\n",
    "        Returns:\n",
    "            int: a sample action at the given state.\n",
    "        \"\"\"\n",
    "        if state not in self.qfunction:\n",
    "            self.qfunction[state] = np.zeros(self._num_actions)\n",
    "\n",
    "        if eval or np.random.uniform() > self._epsilon:\n",
    "            action = argmax_uniform(self.qfunction[state])  # grab argmax uniformely\n",
    "        else:\n",
    "            action = np.random.randint(self._num_actions)\n",
    "        return action\n",
    "\n",
    "    def update(\n",
    "        self, state: str, action: int, next_state: str, reward: int, done: bool\n",
    "    ) -> None:\n",
    "        \"\"\"Update function for the qfunction at a given `state` with a given `action`\n",
    "        which takes it to a given state (`next_state`) and obtain a reward `reward` and a flag `done` saying wether the .\n",
    "        the new state is a terminal sate or not.\n",
    "\n",
    "        Args:\n",
    "            state (str): current state\n",
    "            action (int): action to perfom\n",
    "            next_state (str): next state after performing the action at the state\n",
    "            reward (int): reward obtained by performing the action at the state\n",
    "            done (bool): falg saying wether the next state is a terminal state or not\n",
    "        \"\"\"\n",
    "        if state not in self.qfunction:\n",
    "            self.qfunction[state] = np.zeros(self._num_actions)\n",
    "\n",
    "        if done:\n",
    "            self.qfunction[state][action] = (1 - self._alpha) * self.qfunction[state][\n",
    "                action\n",
    "            ] + self._alpha * reward\n",
    "        else:\n",
    "            if next_state not in self.qfunction:\n",
    "                self.qfunction[next_state] = np.zeros(self._num_actions)\n",
    "            self.qfunction[state][action] = (1 - self._alpha) * self.qfunction[state][\n",
    "                action\n",
    "            ] + self._alpha * (reward + self._gamma * self.qfunction[next_state].max())\n",
    "\n",
    "    def generate_policy(self, kind: str, json_policy_path: str = None):\n",
    "        \"\"\"Generate a policy of an agent from its qfunction.\n",
    "\n",
    "        Args:\n",
    "            kind (str): one of the strings `'random'`, `'greedy'` or `'softmax'`\n",
    "                        which will be used to define the probability.\n",
    "            json_policy_path (str, optional): A path to save the policy as a json file.\n",
    "                                                Defaults to None. If it is none, then the policy\n",
    "                                                will only be returned as a dictionary.\n",
    "\n",
    "        Returns:\n",
    "            dict: generated policy\n",
    "        \"\"\"\n",
    "        policy = {}\n",
    "        for state, qvalue in self.qfunction.items():\n",
    "            if \"0\" in state:  # only consider the case that there is an empty slot\n",
    "                policy[state] = return_probabilities(\n",
    "                    state=state, qvalue_state=qvalue, kind=kind\n",
    "                )\n",
    "        if json_policy_path is not None:\n",
    "            generate_json_policy(policy, json_policy_path)\n",
    "        return policy\n"
   ]
  },
  {
   "cell_type": "markdown",
   "metadata": {},
   "source": [
    "# Train module"
   ]
  },
  {
   "cell_type": "code",
   "execution_count": 3,
   "metadata": {},
   "outputs": [
    {
     "name": "stdout",
     "output_type": "stream",
     "text": [
      "Overwriting train_module.py\n"
     ]
    }
   ],
   "source": [
    "%%writefile train_module.py\n",
    "from player_module import Player, HumanPlayer\n",
    "from tictactoe import TicTacToe\n",
    "\n",
    "from typing import *\n",
    "import numpy as np\n",
    "import matplotlib.pyplot as plt\n",
    "from tqdm import tqdm\n",
    "\n",
    "\n",
    "def run_episode(\n",
    "    player1: Player,\n",
    "    player2: Player,\n",
    "    environment: TicTacToe,\n",
    "    eval: bool = False,\n",
    "    max_step: int = 100,\n",
    "):\n",
    "    \"\"\"Runing episode between two adgents players.\n",
    "\n",
    "    Args:\n",
    "        player1 (Player): first QAgent player\n",
    "        player2 (Player): second QAgent player\n",
    "        environment (TicTacToe): the tic tac toe environment where the two agents will play\n",
    "        eval (bool, optional): flag saying wether it is an evaluation or a training with update.\n",
    "                        If it is an evaluation, then both player will play greedily. Defaults to .\n",
    "        max_step (int, optional): maximum step allowed for the episode. Defaults to 100.\n",
    "\n",
    "    Returns:\n",
    "        tuple(list[int,int], int): where the list will contain the reward of player1 and player2\n",
    "                                    respectedly during the episode. The second element is an\n",
    "                                    integer (1 or 2) value of the  winner. It will be 0 if it is a draw.\n",
    "    \"\"\"\n",
    "    state = environment.reset()\n",
    "    n_steps = 0\n",
    "    players = [player1, player2]\n",
    "    rewards = [0, 0]\n",
    "    dones = [False, False]\n",
    "    done = False\n",
    "    p = 0\n",
    "    winners = []\n",
    "    while True:\n",
    "        if done and isinstance(players[p], HumanPlayer):\n",
    "            action = 0\n",
    "        else:\n",
    "            action = players[p].act(state, eval=eval)\n",
    "        next_state, reward, done, switch = environment.step(action)\n",
    "\n",
    "        if not eval:\n",
    "            players[p].update(state, action, next_state, reward, done)\n",
    "        rewards[p] += reward\n",
    "        dones[p] = done\n",
    "        if done:\n",
    "            winners.append(p + 1)\n",
    "        n_steps += 1\n",
    "        state = next_state\n",
    "        if all(dones) or n_steps > max_step:\n",
    "            break\n",
    "        if switch:  # do not pass the hand until player put in an empty place\n",
    "            p = int(not p)\n",
    "    winner = winners[0] if winners else 0\n",
    "    return rewards, winner\n",
    "\n",
    "\n",
    "def train(\n",
    "    player1: Player,\n",
    "    player2: Player,\n",
    "    environment: TicTacToe,\n",
    "    num_episodes: int,\n",
    "    eval_every_N: int,\n",
    "    num_eval_episodes: int,\n",
    "    max_step: int = 100,\n",
    "):\n",
    "    \"\"\"Train QAgent player\n",
    "\n",
    "    Args:\n",
    "        player1 (Player): first player\n",
    "        player2 (Player): _description_\n",
    "        environment (TicTacToe): the tic tac toe environment where the two agents will play\n",
    "        num_episodes (int): number of episodes to do for the training\n",
    "        eval_every_N (int): episode period for evaluation\n",
    "        num_eval_episodes (int): number of episode for each evaluation\n",
    "        max_step (int, optional): maximum step allowed for the episode. Defaults to 100\n",
    "\n",
    "    Returns:\n",
    "        tuple[list, np.ndarray, np.darray]: - list of episodes number during evaluation\n",
    "                                            - 2-d array of average reward for each evaluation\n",
    "                                            - 2-d array of average number of [draw, player1 wins, player2 wins]\n",
    "                                            for each evaluation during training\n",
    "    \"\"\"\n",
    "    there_is_a_human_player = isinstance(player1, HumanPlayer) or isinstance(\n",
    "        player2, HumanPlayer\n",
    "    )\n",
    "    all_rewards = []\n",
    "    episodes = []\n",
    "    winners = []\n",
    "    print(\"\\nYou can choose to stop training at any time by interrupting.\")\n",
    "    try:\n",
    "        for episode in tqdm(range(num_episodes)):\n",
    "            if there_is_a_human_player:\n",
    "                print(f\"\\n\\n---------- Episode : {episode} ----------\")\n",
    "            run_episode(player1, player2, environment, eval=False, max_step=max_step)\n",
    "\n",
    "            if episode % eval_every_N == 0:\n",
    "                if there_is_a_human_player:\n",
    "                    print(\"\\n-----Running evaluation-----\\n\")\n",
    "                rewards_list = []\n",
    "                winners_list = [0, 0, 0]\n",
    "                for _ in range(num_eval_episodes):\n",
    "                    rewards, winner = run_episode(\n",
    "                        player1, player2, environment, eval=True, max_step=max_step\n",
    "                    )\n",
    "                    rewards_list.append(rewards)\n",
    "                    winners_list[winner] += 1\n",
    "                rewards = np.mean(rewards_list, axis=-1)\n",
    "                winners.append(winners_list.copy())\n",
    "                all_rewards.append(rewards)\n",
    "                episodes.append(episode)\n",
    "    except KeyboardInterrupt:\n",
    "        pass\n",
    "\n",
    "    all_rewards = np.array(all_rewards).T\n",
    "    winners = np.array(winners).T\n",
    "    return episodes, all_rewards, winners\n",
    "\n",
    "\n",
    "def visualize_rewards(\n",
    "    episodes: list,\n",
    "    all_rewards: np.ndarray,\n",
    "    num_eval_episodes: int,\n",
    "    name1: str = None,\n",
    "    name2: str = None,\n",
    "    from_index: int = 0,\n",
    "    end_index: int = -1,\n",
    "):\n",
    "    \"\"\"Reward visualization for the evaluation during training\n",
    "\n",
    "    Args:\n",
    "        episodes (list): list of episode number of traing for evaluation\n",
    "        all_rewards (np.ndarray): average reward of both players for each evaluation\n",
    "                                    during training\n",
    "        num_eval_episodes (int): number of episode for each evaluation\n",
    "        name1 (str, optional): name of player 1. Defaults to None. If None is given,\n",
    "                                it will be `Player 1`\n",
    "        name2 (str, optional): name of player 2. Defaults to None. If None is given,\n",
    "                                it will be `Player 2`\n",
    "        from_index (int, optional): start index. Defaults to 0.\n",
    "        end_index (int, optional): end index. Defaults to -1.\n",
    "    \"\"\"\n",
    "    if not name1:\n",
    "        name1 = \"Player 1\"\n",
    "    if not name2:\n",
    "        name2 = \"Player 2\"\n",
    "    plt.figure(figsize=(15, 6))\n",
    "    plt.title(f\"Average rewards over {num_eval_episodes} episodes\")\n",
    "    plt.xlabel(\"Number of training episodes\")\n",
    "    plt.ylabel(f\"Average rewards\")\n",
    "    plt.plot(\n",
    "        episodes[from_index:end_index],\n",
    "        all_rewards[0][from_index:end_index],\n",
    "        \"--\",\n",
    "        label=name1,\n",
    "    )\n",
    "    plt.plot(\n",
    "        episodes[from_index:end_index],\n",
    "        all_rewards[1][from_index:end_index],\n",
    "        \":\",\n",
    "        label=name2,\n",
    "    )\n",
    "    plt.legend()\n",
    "    plt.show()\n",
    "\n",
    "\n",
    "def visuzalize_winners(\n",
    "    winners: np.ndarray[int],\n",
    "    num_eval_episodes: int,\n",
    "    name1: str = None,\n",
    "    name2: str = None,\n",
    "    from_index: int = 0,\n",
    "    end_index: int = -1,\n",
    "):\n",
    "    \"\"\"Histogram visualization of number episode time players win for each evaluation\n",
    "\n",
    "    Args:\n",
    "        winners (np.ndarray): `3xn`-array number of time for draw or player 1 or 2 wins for each\n",
    "                                evaluation\n",
    "        num_eval_episodes (int): number of episode for each evaluation\n",
    "        name1 (str, optional): name of player 1. Defaults to None. If None is given,\n",
    "                                it will be `Player 1`\n",
    "        name2 (str, optional): name of player 2. Defaults to None. If None is given,\n",
    "                                it will be `Player 2`\n",
    "        from_index (int, optional): start index. Defaults to 0.\n",
    "        end_index (int, optional): end index. Defaults to -1.\n",
    "\n",
    "    Returns:\n",
    "        str: percentage of draw and winning time of both players\n",
    "    \"\"\"\n",
    "    if not name1:\n",
    "        name1 = \"Player 1\"\n",
    "    if not name2:\n",
    "        name2 = \"Player 2\"\n",
    "    plt.figure(figsize=(15, 6))\n",
    "    plt.title(\"Histogram of number of time Player's win.\")\n",
    "    plt.hist(winners[0][from_index:end_index], label=\"Draw\")\n",
    "    plt.hist(winners[1][from_index:end_index], label=name1)\n",
    "    plt.hist(winners[2][from_index:end_index], label=name2)\n",
    "    plt.legend()\n",
    "    plt.show()\n",
    "\n",
    "    draw, p1, p2 = (\n",
    "        np.mean(winners[:, from_index:end_index], axis=-1) * 100 / num_eval_episodes\n",
    "    )\n",
    "    return f\"{draw:.2f}% is Draw\\n{p1:.2f}% {name1} wins\\n{p2:.2f}% {name2} wins\"\n"
   ]
  },
  {
   "cell_type": "markdown",
   "metadata": {},
   "source": [
    "# Import necessary libraries"
   ]
  },
  {
   "cell_type": "code",
   "execution_count": 4,
   "metadata": {},
   "outputs": [],
   "source": [
    "from tictactoe import TicTacToe\n",
    "from player_module import QAgent, HumanPlayer\n",
    "from train_module import run_episode, train, visualize_rewards, visuzalize_winners\n",
    "import numpy as np"
   ]
  },
  {
   "cell_type": "markdown",
   "metadata": {},
   "source": [
    "# Training QAgents"
   ]
  },
  {
   "cell_type": "markdown",
   "metadata": {},
   "source": [
    "## Generate TicTacToe environment"
   ]
  },
  {
   "cell_type": "code",
   "execution_count": 5,
   "metadata": {},
   "outputs": [
    {
     "name": "stdout",
     "output_type": "stream",
     "text": [
      "Generating TicTacToe environment for training... [Done]\n"
     ]
    }
   ],
   "source": [
    "print(\"Generating TicTacToe environment for training...\", end=\" \")\n",
    "environment = TicTacToe()\n",
    "print(\"[Done]\")"
   ]
  },
  {
   "cell_type": "markdown",
   "metadata": {},
   "source": [
    "## Train a model : Agent vs Agent\n",
    "\n",
    "Train two models against each other "
   ]
  },
  {
   "cell_type": "markdown",
   "metadata": {},
   "source": [
    "### Set training hyper-params"
   ]
  },
  {
   "cell_type": "code",
   "execution_count": 6,
   "metadata": {},
   "outputs": [],
   "source": [
    "gamma=.999 # @param horizon\n",
    "learning_rate=0.01 # @param exploitation\n",
    "epsilon= .8 # @param exploration"
   ]
  },
  {
   "cell_type": "code",
   "execution_count": 7,
   "metadata": {},
   "outputs": [],
   "source": [
    "num_episodes = 100000 # @param number of episode during training\n",
    "max_step = 1000 # @param maximum number of step in an episode\n",
    "eval_every_N = 10 # @param evaluation period\n",
    "num_eval_episodes = 3 # @param number of episode to run in each evaluation"
   ]
  },
  {
   "cell_type": "markdown",
   "metadata": {},
   "source": [
    "### Start training"
   ]
  },
  {
   "cell_type": "code",
   "execution_count": 8,
   "metadata": {},
   "outputs": [
    {
     "name": "stdout",
     "output_type": "stream",
     "text": [
      "Generating Player1 agent... [Done]\n",
      "Generating Player2 agent... [Done]\n",
      "\n",
      "---------- BEGIN TRAINING ----------\n",
      "\n",
      "You can choose to stop training at any time by interrupting.\n"
     ]
    },
    {
     "name": "stderr",
     "output_type": "stream",
     "text": [
      "100%|██████████| 100000/100000 [00:14<00:00, 6818.29it/s]"
     ]
    },
    {
     "name": "stdout",
     "output_type": "stream",
     "text": [
      "---------- END TRAINING ----------\n"
     ]
    },
    {
     "name": "stderr",
     "output_type": "stream",
     "text": [
      "\n"
     ]
    }
   ],
   "source": [
    "print(\"Generating Player1 agent...\", end=\" \")\n",
    "player1 = QAgent(environment.num_actions, gamma=gamma, learning_rate=learning_rate, epsilon= epsilon)\n",
    "print(\"[Done]\")\n",
    "print(\"Generating Player2 agent...\", end=\" \")\n",
    "player2 = QAgent(environment.num_actions, gamma=gamma, learning_rate=learning_rate, epsilon= epsilon)\n",
    "print(\"[Done]\")\n",
    "print()\n",
    "print(\"-\"*10, \"BEGIN TRAINING\", \"-\"*10)\n",
    "episodes, all_rewards, winners = train(player1=player1, player2=player2, environment=environment,\n",
    "                                num_episodes=num_episodes, max_step=max_step, eval_every_N=eval_every_N,\n",
    "                                num_eval_episodes=num_eval_episodes)\n",
    "print(\"-\"*10, \"END TRAINING\", \"-\"*10)\n"
   ]
  },
  {
   "cell_type": "markdown",
   "metadata": {},
   "source": [
    "### Training visualization"
   ]
  },
  {
   "cell_type": "code",
   "execution_count": 9,
   "metadata": {},
   "outputs": [],
   "source": [
    "from_index = len(episodes)-100\n",
    "end_index = -1"
   ]
  },
  {
   "cell_type": "code",
   "execution_count": 10,
   "metadata": {},
   "outputs": [
    {
     "data": {
      "image/png": "[encoded data removed]",
      "text/plain": [
       "<Figure size 1500x600 with 1 Axes>"
      ]
     },
     "metadata": {},
     "output_type": "display_data"
    },
    {
     "data": {
      "image/png": "[encoded data removed]",
      "text/plain": [
       "<Figure size 1500x600 with 1 Axes>"
      ]
     },
     "metadata": {},
     "output_type": "display_data"
    },
    {
     "name": "stdout",
     "output_type": "stream",
     "text": [
      "0.00% is Draw\n",
      "73.06% Player 1 wins\n",
      "26.94% Player 2 wins\n"
     ]
    }
   ],
   "source": [
    "visualize_rewards(episodes, all_rewards, num_eval_episodes, name1 = None, name2=None, from_index=from_index, end_index=end_index)\n",
    "stats = visuzalize_winners(winners, num_eval_episodes, name1 = None, name2=None, from_index=from_index, end_index=end_index)\n",
    "print(stats)"
   ]
  },
  {
   "cell_type": "markdown",
   "metadata": {},
   "source": [
    "## Train Agent vs Human"
   ]
  },
  {
   "cell_type": "markdown",
   "metadata": {},
   "source": [
    "### Update parameters setup"
   ]
  },
  {
   "cell_type": "code",
   "execution_count": 11,
   "metadata": {},
   "outputs": [],
   "source": [
    "gamma=.999 # @param horizon\n",
    "learning_rate=0.1 # @param exploitation\n",
    "epsilon= .5 # @param exploration"
   ]
  },
  {
   "cell_type": "code",
   "execution_count": 12,
   "metadata": {},
   "outputs": [],
   "source": [
    "num_episodes = 1 # @param number of episode during training\n",
    "max_step = 1000 # @param maximum number of step in an episode\n",
    "eval_every_N = 1 # @param evaluation period\n",
    "num_eval_episodes = 1 # @param number of episode to run in each evaluation"
   ]
  },
  {
   "cell_type": "markdown",
   "metadata": {},
   "source": [
    "### Give human player's name"
   ]
  },
  {
   "cell_type": "code",
   "execution_count": 13,
   "metadata": {},
   "outputs": [],
   "source": [
    "train_against_human = False # @param set true to train model manually\n",
    "name_human_player = \"Heritiana\" # @param"
   ]
  },
  {
   "cell_type": "markdown",
   "metadata": {},
   "source": [
    "### Train player1 agent with Human"
   ]
  },
  {
   "cell_type": "code",
   "execution_count": 14,
   "metadata": {},
   "outputs": [],
   "source": [
    "if train_against_human:\n",
    "    print(\"Setting new params...\", end=\" \")\n",
    "    player1.set_learning_params(gamma, learning_rate, epsilon)\n",
    "    print(\"[Done]\")\n",
    "    print(\"Generating human player as a second player...\", end=\" \")\n",
    "    human_player = HumanPlayer(2, name_human_player)\n",
    "    print(\"[Done]\")\n",
    "\n",
    "    print()\n",
    "    print(\"-\"*10, \"BEGIN TRAINING\", \"-\"*10)\n",
    "    episodes1, all_rewards1, winners1 = train(player1, human_player, environment, num_episodes, max_step, eval_every_N, num_eval_episodes)\n",
    "    print(\"-\"*10, \"END TRAINING\", \"-\"*10)"
   ]
  },
  {
   "cell_type": "markdown",
   "metadata": {},
   "source": [
    "### Train player2 agent with Human"
   ]
  },
  {
   "cell_type": "code",
   "execution_count": 15,
   "metadata": {},
   "outputs": [],
   "source": [
    "if train_against_human:\n",
    "    print(\"Setting new params...\", end=\" \")\n",
    "    player2.set_learning_params(gamma, learning_rate, epsilon)\n",
    "    print(\"[Done]\")\n",
    "    print(\"Generating human player as a first player...\", end=\" \")\n",
    "    human_player = HumanPlayer(1, name_human_player)\n",
    "    print(\"[Done]\")\n",
    "\n",
    "\n",
    "    print()\n",
    "    print(\"-\"*10, \"BEGIN TRAINING\", \"-\"*10)\n",
    "    episodes2, all_rewards2, winners2 = train(human_player, player2, environment, num_episodes, max_step, eval_every_N, num_eval_episodes)\n",
    "    print(\"-\"*10, \"END TRAINING\", \"-\"*10)"
   ]
  },
  {
   "cell_type": "markdown",
   "metadata": {},
   "source": [
    "### Training visualization"
   ]
  },
  {
   "cell_type": "code",
   "execution_count": 16,
   "metadata": {},
   "outputs": [],
   "source": [
    "if train_against_human:\n",
    "    from_index = 0\n",
    "    end_index = -1"
   ]
  },
  {
   "cell_type": "code",
   "execution_count": 17,
   "metadata": {},
   "outputs": [],
   "source": [
    "if train_against_human:\n",
    "    visualize_rewards(episodes1, all_rewards1, num_eval_episodes, name1 = None, name2=name_human_player, \n",
    "                        from_index=from_index, end_index=end_index)\n",
    "    visuzalize_winners(winners1, num_eval_episodes, name1 = None, name2=None, from_index=from_index, end_index=end_index)"
   ]
  },
  {
   "cell_type": "code",
   "execution_count": 18,
   "metadata": {},
   "outputs": [],
   "source": [
    "if train_against_human:\n",
    "    visualize_rewards(episodes2, all_rewards2, num_eval_episodes, name1 = name_human_player,\n",
    "                        name2=None, from_index=from_index, end_index=end_index)\n",
    "    visuzalize_winners(winners2, num_eval_episodes, name1 = None, name2=None, from_index=from_index, end_index=end_index)"
   ]
  },
  {
   "cell_type": "markdown",
   "metadata": {},
   "source": [
    "# Generate policies as json files"
   ]
  },
  {
   "cell_type": "markdown",
   "metadata": {},
   "source": [
    "## Set directory for saving files"
   ]
  },
  {
   "cell_type": "code",
   "execution_count": 19,
   "metadata": {},
   "outputs": [],
   "source": [
    "policy_dir = \"json_agents/\""
   ]
  },
  {
   "cell_type": "markdown",
   "metadata": {},
   "source": [
    "## Generate easy-level policy"
   ]
  },
  {
   "cell_type": "code",
   "execution_count": 20,
   "metadata": {},
   "outputs": [
    {
     "name": "stdout",
     "output_type": "stream",
     "text": [
      "Random policy generated successfully\n"
     ]
    }
   ],
   "source": [
    "easy = player1.generate_policy(kind = \"random\",json_policy_path = policy_dir + \"easy.json\")\n",
    "\n",
    "print(\"Random policy generated successfully\")"
   ]
  },
  {
   "cell_type": "markdown",
   "metadata": {},
   "source": [
    "## Generate medium-level policies"
   ]
  },
  {
   "cell_type": "code",
   "execution_count": 21,
   "metadata": {},
   "outputs": [
    {
     "name": "stdout",
     "output_type": "stream",
     "text": [
      "Medium policy generated successfully\n"
     ]
    }
   ],
   "source": [
    "player1.generate_policy(kind = \"softmax\", json_policy_path = policy_dir + \"medium_player1.json\")\n",
    "player2.generate_policy(kind = \"softmax\", json_policy_path = policy_dir + \"medium_player2.json\")\n",
    "print(\"Medium policy generated successfully\")"
   ]
  },
  {
   "cell_type": "markdown",
   "metadata": {},
   "source": [
    "## Generate hard-level policies"
   ]
  },
  {
   "cell_type": "code",
   "execution_count": 22,
   "metadata": {},
   "outputs": [
    {
     "name": "stdout",
     "output_type": "stream",
     "text": [
      "Hard policy generated successfully\n"
     ]
    }
   ],
   "source": [
    "player1.generate_policy(kind = \"greedy\", json_policy_path = policy_dir + \"hard_player1.json\")\n",
    "player2.generate_policy(kind = \"greedy\", json_policy_path = policy_dir + \"hard_player2.json\")\n",
    "print(\"Hard policy generated successfully\")"
   ]
  },
  {
   "cell_type": "code",
   "execution_count": null,
   "metadata": {},
   "outputs": [],
   "source": []
  }
 ],
 "metadata": {
  "kernelspec": {
   "display_name": "Python 3.10.6 ('.venv': venv)",
   "language": "python",
   "name": "python3"
  },
  "language_info": {
   "codemirror_mode": {
    "name": "ipython",
    "version": 3
   },
   "file_extension": ".py",
   "mimetype": "text/x-python",
   "name": "python",
   "nbconvert_exporter": "python",
   "pygments_lexer": "ipython3",
   "version": "3.10.6"
  },
  "orig_nbformat": 4,
  "vscode": {
   "interpreter": {
    "hash": "96ba0718cb6bb0309c9744240fd3df4cb114a8387c8dc32457f322a13774918e"
   }
  }
 },
 "nbformat": 4,
 "nbformat_minor": 2
}
