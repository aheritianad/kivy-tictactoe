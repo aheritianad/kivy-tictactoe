{
 "cells": [
  {
   "cell_type": "code",
   "execution_count": 3,
   "metadata": {},
   "outputs": [],
   "source": [
    "# %%writefile utils.py\n",
    "\n",
    "import numpy as np\n",
    "import json\n",
    "\n",
    "def softmax(logits: np.ndarray):\n",
    "    exp_logits = np.exp(logits - logits.max())\n",
    "    return exp_logits/np.sum(exp_logits)\n",
    "\n",
    "def return_probabilities(state, qvalue_state, kind):\n",
    "    index_state = np.array(list(map(int, list(state))))\n",
    "    probs = np.zeros_like(qvalue_state, dtype=np.float)\n",
    "    logits = qvalue_state[index_state == 0]\n",
    "    if kind == \"greedy\":\n",
    "        p = np.zeros_like(logits)\n",
    "        p[logits.argmax()] = 1\n",
    "    elif kind == \"softmax\":\n",
    "        p = softmax(logits)\n",
    "    elif kind == \"random\":\n",
    "        p = 1/len(logits)\n",
    "    else:\n",
    "        raise NotImplementedError\n",
    "    probs[index_state == 0] = p\n",
    "    return list(probs)\n",
    "\n",
    "def generate_json_policy(policy, json_policy_path):\n",
    "    with open(json_policy_path, 'w') as json_file:\n",
    "        json.dump(policy, json_file, indent=2)\n",
    "\n",
    "def read_json_policy(json_policy_path):\n",
    "    with open(json_policy_path, 'r') as json_file:\n",
    "        policy = json.load(json_file)\n",
    "    return policy"
   ]
  },
  {
   "cell_type": "code",
   "execution_count": 5,
   "metadata": {},
   "outputs": [],
   "source": [
    "# %%writefile q_agent_model.py \n",
    "\n",
    "import numpy as np\n",
    "from utils import return_probabilities, generate_json_policy\n",
    "\n",
    "class Player:\n",
    "    def __init__(self, num_actions, gamma, learning_rate, epsilon) -> None:\n",
    "        self.qfunction = {}\n",
    "        self._gamma = gamma\n",
    "        self._alpha = learning_rate\n",
    "        self._epsilon =  epsilon\n",
    "        self._num_actions = num_actions\n",
    "    \n",
    "    def act(self, state, eval = False):\n",
    "        if state not in self.qfunction:\n",
    "            self.qfunction[state] = np.zeros(self._num_actions)\n",
    "        Q_s = self.qfunction[state].copy()\n",
    "        if (eval or np.random.uniform() > self._epsilon) and np.any(Q_s - Q_s[0]):\n",
    "            action = np.argmax(self.qfunction[state])\n",
    "        else :\n",
    "            action = np.random.randint(self._num_actions)\n",
    "        return action\n",
    "    \n",
    "\n",
    "    def update(self, state, action, next_state, reward, done) -> None:\n",
    "        if state not in self.qfunction:\n",
    "            self.qfunction[state] = np.zeros(self._num_actions)\n",
    "        \n",
    "        if done:\n",
    "            self.qfunction[state][action] = (1-self._alpha) * self.qfunction[state][action] + self._alpha * reward\n",
    "        else:\n",
    "            if next_state not in self.qfunction:\n",
    "                self.qfunction[next_state] = np.zeros(self._num_actions)\n",
    "            self.qfunction[state][action] = (1-self._alpha) * self.qfunction[state][action] + self._alpha * (reward + self._gamma * self.qfunction[next_state].max()) \n",
    "    \n",
    "    def generate_policy(self, kind, json_policy_path = None):\n",
    "        policy = {}\n",
    "        for state, qvalue in self.qfunction.items():\n",
    "            if '0' in state: # only consider the case that there is an empty slot\n",
    "                policy[state] = return_probabilities(state=state, qvalue_state=qvalue, kind = kind)\n",
    "        if json_policy_path is not None:    \n",
    "            generate_json_policy(policy, json_policy_path)\n",
    "        return policy\n",
    "\n",
    "\n",
    "def run_episode(player1, player2, environment, eval, max_step = 100):\n",
    "    state = environment.reset()\n",
    "    n_steps = 0\n",
    "    player = [player1, player2]\n",
    "    rewards = [0,0]\n",
    "    dones = [False, False]\n",
    "    p = 0\n",
    "    winners = []\n",
    "    while True:\n",
    "        action = player[p].act(state, eval=eval)\n",
    "        next_state, reward, done, switch = environment.step(action)\n",
    "        \n",
    "        if not eval:\n",
    "            player[p].update(state, action, next_state, reward, done)\n",
    "        rewards[p] += reward\n",
    "        dones[p] = done\n",
    "        if done:\n",
    "            winners.append(p+1)\n",
    "        n_steps += 1\n",
    "        state = next_state\n",
    "        if all(dones) or n_steps > max_step:\n",
    "            break\n",
    "        if switch: # do not pass the hand until player put in an empty place\n",
    "            p = int(not p) \n",
    "    winner = winners[0] if winners else 0\n",
    "    return rewards, winner"
   ]
  },
  {
   "cell_type": "code",
   "execution_count": 7,
   "metadata": {},
   "outputs": [],
   "source": [
    "from tictactoe import TicTacToe\n",
    "from q_agent_model import Player\n",
    "import matplotlib.pyplot as plt\n",
    "from tqdm import tqdm"
   ]
  },
  {
   "cell_type": "code",
   "execution_count": 8,
   "metadata": {},
   "outputs": [
    {
     "name": "stderr",
     "output_type": "stream",
     "text": [
      "100%|██████████| 100000/100000 [00:15<00:00, 6570.30it/s]"
     ]
    },
    {
     "name": "stdout",
     "output_type": "stream",
     "text": [
      "The highest index is  9999\n"
     ]
    },
    {
     "name": "stderr",
     "output_type": "stream",
     "text": [
      "\n"
     ]
    }
   ],
   "source": [
    "environment = TicTacToe()\n",
    "player1 = Player(environment.num_actions, gamma=1, learning_rate=0.0001, epsilon= .9)\n",
    "player2 = Player(environment.num_actions, gamma=1, learning_rate=0.0001, epsilon= .9)\n",
    "\n",
    "num_episodes = 100000\n",
    "eval_every_N = 10 \n",
    "num_eval_episodes = 3\n",
    "\n",
    "max_step = 100\n",
    "\n",
    "all_rewards = []\n",
    "episodes = []\n",
    "winners = []\n",
    "# print(f\"Episode number:\\t| Average reward on {num_eval_episodes} eval episodes\")\n",
    "# print(\"------------------------------------------------------\")\n",
    "try:\n",
    "    for episode in tqdm(range(num_episodes)):\n",
    "        run_episode(player1, player2, environment, eval=False, max_step = max_step)\n",
    "\n",
    "        if episode % eval_every_N == 0:\n",
    "            rewards_list = []\n",
    "            winners_list = [0,0,0]\n",
    "            for _ in range(num_eval_episodes):\n",
    "                rewards, winner =run_episode(player1, player2, environment, eval=True, max_step = max_step)\n",
    "                rewards_list.append(rewards)\n",
    "                winners_list[winner] += 1\n",
    "            rewards = np.mean(rewards_list, axis=-1)\n",
    "            winners.append(winners_list.copy())\n",
    "            # print(f\"\\t{episode}\\t|\\t{rewards[0]:.2f} vs {rewards[1]:.2f}\")\n",
    "            all_rewards.append(rewards)\n",
    "            episodes.append(episode)\n",
    "except KeyboardInterrupt:\n",
    "    pass\n",
    "\n",
    "all_rewards = np.array(all_rewards).T\n",
    "winners = np.array(winners).T\n",
    "\n",
    "print(\"The highest index is \", len(episodes)-1)"
   ]
  },
  {
   "cell_type": "code",
   "execution_count": 9,
   "metadata": {},
   "outputs": [
    {
     "data": {
      "text/plain": [
       "<matplotlib.legend.Legend at 0x10c913070>"
      ]
     },
     "execution_count": 9,
     "metadata": {},
     "output_type": "execute_result"
    },
    {
     "data": {
      "image/png": "[encoded data removed]",
      "text/plain": [
       "<Figure size 1500x600 with 1 Axes>"
      ]
     },
     "metadata": {},
     "output_type": "display_data"
    }
   ],
   "source": [
    "from_index = 990\n",
    "plt.figure(figsize=(15, 6))\n",
    "plt.xlabel('Number of training episodes')\n",
    "plt.ylabel('Average reward')\n",
    "plt.plot(episodes[from_index:], all_rewards[0][from_index:], label=f\"Player 1 : Average reward over {num_eval_episodes} episodes\")\n",
    "plt.plot(episodes[from_index:], all_rewards[1][from_index:], label=f\"Player 1 : Average reward over {num_eval_episodes} episodes\")\n",
    "plt.legend()"
   ]
  },
  {
   "cell_type": "code",
   "execution_count": 11,
   "metadata": {},
   "outputs": [
    {
     "data": {
      "text/plain": [
       "<matplotlib.legend.Legend at 0x10892c220>"
      ]
     },
     "execution_count": 11,
     "metadata": {},
     "output_type": "execute_result"
    },
    {
     "data": {
      "image/png": "[encoded data removed]",
      "text/plain": [
       "<Figure size 1500x600 with 1 Axes>"
      ]
     },
     "metadata": {},
     "output_type": "display_data"
    }
   ],
   "source": [
    "end_index = -1 \n",
    "plt.figure(figsize=(15, 6))\n",
    "plt.hist(winners[0][from_index:end_index], label=f\"Draw\")\n",
    "plt.hist(winners[1][from_index:end_index], label=f\"Player 1 wins\")\n",
    "plt.hist(winners[2][from_index:end_index], label=f\"Player 2 wins\")\n",
    "plt.legend()"
   ]
  },
  {
   "cell_type": "code",
   "execution_count": 12,
   "metadata": {},
   "outputs": [
    {
     "name": "stdout",
     "output_type": "stream",
     "text": [
      "0.0% is Draw\n",
      "45.0% Player 1 wins\n",
      "55.0% Player 2 wins\n"
     ]
    }
   ],
   "source": [
    "draw, p1, p2 = np.ceil(np.mean(winners[:,from_index:end_index],axis=-1)*100/num_eval_episodes)\n",
    "print(f\"{draw}% is Draw\\n{p1}% Player 1 wins\\n{100-draw-p1}% Player 2 wins\")"
   ]
  },
  {
   "cell_type": "code",
   "execution_count": 13,
   "metadata": {},
   "outputs": [
    {
     "name": "stdout",
     "output_type": "stream",
     "text": [
      "Random policy generated successfully\n"
     ]
    }
   ],
   "source": [
    "easy = player1.generate_policy(kind = \"random\",json_policy_path=\"json_agents/easy.json\")\n",
    "\n",
    "print(\"Random policy generated successfully\")"
   ]
  },
  {
   "cell_type": "code",
   "execution_count": 14,
   "metadata": {},
   "outputs": [
    {
     "name": "stdout",
     "output_type": "stream",
     "text": [
      "Medium policy generated successfully\n"
     ]
    }
   ],
   "source": [
    "player1.generate_policy(kind = \"softmax\", json_policy_path = f\"json_agents/medium_player1.json\")\n",
    "player2.generate_policy(kind = \"softmax\", json_policy_path = f\"json_agents/medium_player2.json\")\n",
    "print(\"Medium policy generated successfully\")"
   ]
  },
  {
   "cell_type": "code",
   "execution_count": 15,
   "metadata": {},
   "outputs": [
    {
     "name": "stdout",
     "output_type": "stream",
     "text": [
      "Hard policy generated successfully\n"
     ]
    }
   ],
   "source": [
    "p1h = player1.generate_policy(kind = \"greedy\")\n",
    "p1h[\"000000000\"] = easy[\"000000000\"] # start at a random place\n",
    "\n",
    "generate_json_policy(p1h, json_policy_path = f\"json_agents/hard_player1.json\")\n",
    "player2.generate_policy(kind = \"greedy\", json_policy_path = f\"json_agents/hard_player2.json\")\n",
    "print(\"Hard policy generated successfully\")"
   ]
  },
  {
   "cell_type": "code",
   "execution_count": 16,
   "metadata": {},
   "outputs": [],
   "source": [
    "def sym(hash):\n",
    "    hash = hash.replace(\"1\",\"a\")\n",
    "    hash = hash.replace(\"2\", \"b\")\n",
    "    hash = hash.replace(\"b\", \"1\")\n",
    "    hash = hash.replace(\"a\", \"2\")\n",
    "    return hash"
   ]
  },
  {
   "cell_type": "code",
   "execution_count": 17,
   "metadata": {},
   "outputs": [
    {
     "name": "stdout",
     "output_type": "stream",
     "text": [
      "Hard policy generated successfully\n"
     ]
    }
   ],
   "source": [
    "# p2h = {sym(hash): prob for hash, prob in p1h.items()}\n",
    "# generate_json_policy(p2h, json_policy_path = f\"json_agents/hard_player2.json\")\n",
    "print(\"Hard policy generated successfully\")"
   ]
  },
  {
   "cell_type": "code",
   "execution_count": null,
   "metadata": {},
   "outputs": [],
   "source": []
  }
 ],
 "metadata": {
  "kernelspec": {
   "display_name": "Python 3.10.6 ('.venv': venv)",
   "language": "python",
   "name": "python3"
  },
  "language_info": {
   "codemirror_mode": {
    "name": "ipython",
    "version": 3
   },
   "file_extension": ".py",
   "mimetype": "text/x-python",
   "name": "python",
   "nbconvert_exporter": "python",
   "pygments_lexer": "ipython3",
   "version": "3.10.6"
  },
  "orig_nbformat": 4,
  "vscode": {
   "interpreter": {
    "hash": "96ba0718cb6bb0309c9744240fd3df4cb114a8387c8dc32457f322a13774918e"
   }
  }
 },
 "nbformat": 4,
 "nbformat_minor": 2
}
